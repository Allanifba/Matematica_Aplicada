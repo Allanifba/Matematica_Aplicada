{
 "cells": [
  {
   "cell_type": "markdown",
   "id": "b0937fea",
   "metadata": {
    "slideshow": {
     "slide_type": "slide"
    }
   },
   "source": [
    "<img src=\"logo_ifba.jpg\" alt=\"jpg_python\" width=\"100\" height=\"200\">\n",
    "<br><br>\n",
    "<div align=\"center\"><span style=\"font-size: 26px;\"><strong>Atividade Aplicada à Computação</strong></span></div>\n",
    "<br></br>\n",
    "<div align=\"center\"><span style=\"font-size: 26px;\"><strong>Matrizes</strong></span></div>\n",
    "<br></br>\n",
    "<img src=\"python_gif.gif\" alt=\"gif_python\" width=\"80\">"
   ]
  },
  {
   "cell_type": "markdown",
   "id": "142f9ea0",
   "metadata": {
    "slideshow": {
     "slide_type": "slide"
    }
   },
   "source": [
    "# <font color='red'>1. Operações Com Matrizes</font>"
   ]
  },
  {
   "cell_type": "markdown",
   "id": "5eda9e01",
   "metadata": {
    "slideshow": {
     "slide_type": "slide"
    }
   },
   "source": [
    "Nesta atividade usaremos o Jupyter Notebook (ou o Google Colab) para efetuar cálculos envolvendo matrizes aplicados a um exemplo de cálculo de preços de produtos."
   ]
  },
  {
   "cell_type": "markdown",
   "id": "bf5ad1d1",
   "metadata": {
    "slideshow": {
     "slide_type": "slide"
    }
   },
   "source": [
    "Em matemática costumamos descrever uma matriz de $n$ linhas e $m$ colunas da seguinte forma:\n",
    "\n",
    "$$A_{n \\times m} = \\begin{bmatrix}\n",
    "a_{11} & a_{12} & \\ldots & a_{1m}\\\\\n",
    "a_{21} & a_{22} & \\ldots & a_{2m}\\\\\n",
    "\\vdots & \\vdots & \\vdots & \\vdots\\\\\n",
    "a_{n1} & a_{n2} & \\ldots & a_{nm}\\\\\n",
    "\\end{bmatrix}$$\n",
    "\n",
    "Note que a indexação de um elemento começa de $(1,1)$, isto é, $a_{11}$ é o elemento que está na localizado na linha $1$ e coluna $1$. Um elemento $a_{ij}$ está localizado na linha $i$ e coluna $j$."
   ]
  },
  {
   "cell_type": "markdown",
   "id": "fc166fea",
   "metadata": {
    "slideshow": {
     "slide_type": "slide"
    }
   },
   "source": [
    "Em Python descrevemos uma matriz com indexação começando de $0$:\n",
    "\n",
    "$$A_{n \\times m} = \\begin{bmatrix}\n",
    "a_{00} & a_{01} & \\ldots & a_{0(m-1)}\\\\\n",
    "a_{10} & a_{11} & \\ldots & a_{0(m-1)}\\\\\n",
    "\\vdots & \\vdots & \\vdots & \\vdots\\\\\n",
    "a_{(n-1)0} & a_{(n-1)1} & \\ldots & a_{(n-1)(m-1)}\\\\\n",
    "\\end{bmatrix}$$\n",
    "\n",
    "Note que a indexação de um elemento começa de $(0,0)$, isto é, $a_{00}$ é o elemento que está na localizado na linha $1$ e coluna $1$. Um elemento $a_{ij}$ está localizado na linha $i-1$ e coluna $j-1$."
   ]
  },
  {
   "cell_type": "markdown",
   "id": "04eb513c",
   "metadata": {
    "slideshow": {
     "slide_type": "slide"
    }
   },
   "source": [
    "## <font color='blue'>1.1 Inserindo Uma Matriz</font>"
   ]
  },
  {
   "cell_type": "markdown",
   "id": "b33dd447",
   "metadata": {
    "slideshow": {
     "slide_type": "slide"
    }
   },
   "source": [
    "Vejamos como inserir a matriz:\n",
    "$$A = \\begin{bmatrix}\n",
    "1 & 2 & 3\\\\\n",
    "2 & 1 & 0\\\\\n",
    "3 & 4 & 1\\\\\n",
    "\\end{bmatrix}$$\n"
   ]
  },
  {
   "cell_type": "code",
   "execution_count": null,
   "id": "f484c657",
   "metadata": {
    "ExecuteTime": {
     "end_time": "2023-06-05T12:50:05.196010Z",
     "start_time": "2023-06-05T12:50:05.191046Z"
    },
    "slideshow": {
     "slide_type": "slide"
    }
   },
   "outputs": [],
   "source": [
    "# Inserindo a matriz A\n",
    "import numpy as np #Módulo necessário\n",
    "\n",
    "A = np.matrix([[1,2,3],[2,1,0],[3,4,1]])"
   ]
  },
  {
   "cell_type": "code",
   "execution_count": null,
   "id": "9bfb1046",
   "metadata": {
    "ExecuteTime": {
     "end_time": "2023-06-05T12:50:34.172525Z",
     "start_time": "2023-06-05T12:50:34.166553Z"
    },
    "slideshow": {
     "slide_type": "slide"
    }
   },
   "outputs": [],
   "source": [
    "# Vizualizando a matriz\n",
    "print(A)"
   ]
  },
  {
   "cell_type": "markdown",
   "id": "ac5821a3",
   "metadata": {
    "slideshow": {
     "slide_type": "slide"
    }
   },
   "source": [
    "## <font color='blue'>1.2 Consultando Dimensão e Elementos Internos de Uma Matriz</font>"
   ]
  },
  {
   "cell_type": "markdown",
   "id": "7ac2034d",
   "metadata": {
    "slideshow": {
     "slide_type": "slide"
    }
   },
   "source": [
    "Veremos a seguir como consultar a dimensão (tamanho) de uma matriz bem como acessar elementos internos, linhas e colunas."
   ]
  },
  {
   "cell_type": "markdown",
   "id": "0c524417",
   "metadata": {
    "slideshow": {
     "slide_type": "slide"
    }
   },
   "source": [
    "### <font color='blue'>1.2.1 Consultando a Dimensão</font>"
   ]
  },
  {
   "cell_type": "markdown",
   "id": "c76d208e",
   "metadata": {
    "slideshow": {
     "slide_type": "slide"
    }
   },
   "source": [
    "Considere a matriz $B$:\n",
    "$$B = \\begin{bmatrix}\n",
    "1 & 2 & -1\\\\\n",
    "-3 & 1 & 1\\\\\n",
    "\\end{bmatrix}$$"
   ]
  },
  {
   "cell_type": "code",
   "execution_count": null,
   "id": "1c94766a",
   "metadata": {
    "ExecuteTime": {
     "end_time": "2023-06-05T12:54:38.644862Z",
     "start_time": "2023-06-05T12:54:38.639884Z"
    }
   },
   "outputs": [],
   "source": [
    "# Inserindo a matriz B\n",
    "import numpy as np \n",
    "\n",
    "B = np.matrix([[1,2,-1],[-3,1,1]])"
   ]
  },
  {
   "cell_type": "code",
   "execution_count": null,
   "id": "271e001a",
   "metadata": {
    "ExecuteTime": {
     "end_time": "2023-06-05T12:54:39.731875Z",
     "start_time": "2023-06-05T12:54:39.727877Z"
    }
   },
   "outputs": [],
   "source": [
    "# Consultando a dimensão de uma matriz\n",
    "dim = B.shape\n",
    "print(dim)"
   ]
  },
  {
   "cell_type": "markdown",
   "id": "ebb64acb",
   "metadata": {},
   "source": [
    "### <font color='blue'>1.2.2 Consultando Elementos, Linhas e Colunas</font>"
   ]
  },
  {
   "cell_type": "markdown",
   "id": "9ae47037",
   "metadata": {},
   "source": [
    "Em Python a indexação de matrizes começa de zero, isto é, para consultar um elemento localizado na coluna $j$ da linha $i$ devemos consultar usando $i-1$ e $j-1$."
   ]
  },
  {
   "cell_type": "markdown",
   "id": "65fa295b",
   "metadata": {},
   "source": [
    "Considere a matriz $B$:\n",
    "$$C = \\begin{bmatrix}\n",
    "-1 & 1 & 4\\\\\n",
    "5 & 3 & 2\\\\\n",
    "7 & 9 & 6\\\\\n",
    "1 & -6 & 8\\\\\n",
    "\\end{bmatrix}$$"
   ]
  },
  {
   "cell_type": "code",
   "execution_count": null,
   "id": "12c135ae",
   "metadata": {
    "ExecuteTime": {
     "end_time": "2023-06-05T13:08:05.254071Z",
     "start_time": "2023-06-05T13:08:05.248087Z"
    }
   },
   "outputs": [],
   "source": [
    "# Inserindo a matriz C\n",
    "import numpy as np \n",
    "\n",
    "C = np.matrix([[-1,1,4],[5,3,2],[7,9,6],[1,-6,8]])"
   ]
  },
  {
   "cell_type": "code",
   "execution_count": null,
   "id": "0a8508c5",
   "metadata": {
    "ExecuteTime": {
     "end_time": "2023-06-05T13:08:20.044899Z",
     "start_time": "2023-06-05T13:08:20.039888Z"
    }
   },
   "outputs": [],
   "source": [
    "# Consultando C(i,j)\n",
    "elemento = C[0,0]\n",
    "print(elemento)"
   ]
  },
  {
   "cell_type": "markdown",
   "id": "6f4af90d",
   "metadata": {},
   "source": [
    "A consulta de linhas e colunas é, também, bastante simples."
   ]
  },
  {
   "cell_type": "code",
   "execution_count": null,
   "id": "c5e2d7cc",
   "metadata": {
    "ExecuteTime": {
     "end_time": "2023-06-05T13:12:19.261534Z",
     "start_time": "2023-06-05T13:12:19.257555Z"
    }
   },
   "outputs": [],
   "source": [
    "## Consultando a linha i (indexação começa de 0)\n",
    "linha = C[0,:]     #mude para 1\n",
    "print(linha)"
   ]
  },
  {
   "cell_type": "code",
   "execution_count": null,
   "id": "e918c9fc",
   "metadata": {
    "ExecuteTime": {
     "end_time": "2023-06-05T13:12:22.853580Z",
     "start_time": "2023-06-05T13:12:22.848570Z"
    }
   },
   "outputs": [],
   "source": [
    "# Consultando a linha j (indexação começa de 0)\n",
    "coluna = C[:,0]\n",
    "print(coluna)"
   ]
  },
  {
   "cell_type": "markdown",
   "id": "ae1722e1",
   "metadata": {},
   "source": [
    "## <font color='blue'>1.3 Operações Com Matrizes</font>"
   ]
  },
  {
   "cell_type": "markdown",
   "id": "43e46e8c",
   "metadata": {},
   "source": [
    "A seguir apresentaremos algumas operações básicas usando matrizes. Elas serão extremamente úteis com bastante aplicações nas mais diversas áreas.\n"
   ]
  },
  {
   "cell_type": "markdown",
   "id": "b001a2c9",
   "metadata": {},
   "source": [
    "### <font color='blue'>1.3.1 Multiplicação de Uma Matriz Por Um Escalar Real ($\\alpha \\in \\mathbb{R}$)</font>"
   ]
  },
  {
   "cell_type": "markdown",
   "id": "9b55d1bc",
   "metadata": {
    "slideshow": {
     "slide_type": "slide"
    }
   },
   "source": [
    "Seja $A$ uma matriz $n \\times m$ e $\\alpha$ um escalar. Define-se o produto de $\\alpha$ por $A$ como sendo o produto de cada elemento de $A$ por $\\alpha$. Em símbolos, temos:\n",
    "\n",
    "$$\\alpha A_{n \\times m} = \\alpha\\begin{bmatrix}\n",
    "a_{11} & a_{12} & \\ldots & a_{1m}\\\\\n",
    "a_{21} & a_{22} & \\ldots & a_{2m}\\\\\n",
    "\\vdots & \\vdots & \\vdots & \\vdots\\\\\n",
    "a_{n1} & a_{n2} & \\ldots & a_{nm}\\\\\n",
    "\\end{bmatrix} = \\begin{bmatrix}\n",
    "\\alpha a_{11} & \\alpha a_{12} & \\ldots & \\alpha a_{1m}\\\\\n",
    "\\alpha a_{21} & \\alpha a_{22} & \\ldots & \\alpha a_{2m}\\\\\n",
    "\\vdots & \\vdots & \\vdots & \\vdots\\\\\n",
    "\\alpha a_{n1} & \\alpha a_{n2} & \\ldots & \\alpha a_{nm}\\\\\n",
    "\\end{bmatrix}\n",
    "$$"
   ]
  },
  {
   "cell_type": "markdown",
   "id": "0252098d",
   "metadata": {
    "ExecuteTime": {
     "end_time": "2023-06-05T14:06:30.157101Z",
     "start_time": "2023-06-05T14:06:30.148126Z"
    },
    "slideshow": {
     "slide_type": "slide"
    }
   },
   "source": [
    "<font color='blue'> **Exemplo:** Calcule o $2A$ em que\n",
    "<br><br>\n",
    "$$A = \\begin{bmatrix}\n",
    "1 & 2 & -1\\\\\n",
    "-3 & 1 & 1\\\\\n",
    "\\end{bmatrix}$$\n",
    "<br><br>\n",
    "**Solução:** Temos que\n",
    "<br><br>\n",
    "$$\n",
    "2A= \n",
    "2\\begin{bmatrix}\n",
    "1 & 2 & -1\\\\\n",
    "-3 & 1 & 1\\\\\n",
    "\\end{bmatrix} \n",
    "=\n",
    "\\begin{bmatrix}\n",
    "2\\cdot1 & 2\\cdot2 & 2\\cdot(-1)\\\\\n",
    "2\\cdot(-3) & 2\\cdot1 & 2\\cdot1\\\\\n",
    "\\end{bmatrix} \n",
    "= \\begin{bmatrix}\n",
    "2 & 4 & -2\\\\\n",
    "-6 & 2 & 2\\\\\n",
    "\\end{bmatrix} \n",
    "$$\n",
    "\n"
   ]
  },
  {
   "cell_type": "markdown",
   "id": "52d63d76",
   "metadata": {},
   "source": [
    "Vejamos o mesmo exemplo usando programação."
   ]
  },
  {
   "cell_type": "code",
   "execution_count": 13,
   "id": "a7c1e218",
   "metadata": {
    "ExecuteTime": {
     "end_time": "2023-06-05T14:16:17.881535Z",
     "start_time": "2023-06-05T14:16:17.876530Z"
    }
   },
   "outputs": [],
   "source": [
    "# Inserindo A\n",
    "import numpy as np\n",
    "\n",
    "A = np.matrix([[1,2,-1],[-3,1,1]], dtype = 'float')"
   ]
  },
  {
   "cell_type": "code",
   "execution_count": 14,
   "id": "49124b51",
   "metadata": {
    "ExecuteTime": {
     "end_time": "2023-06-05T14:16:19.417439Z",
     "start_time": "2023-06-05T14:16:19.380412Z"
    }
   },
   "outputs": [
    {
     "name": "stdout",
     "output_type": "stream",
     "text": [
      "[[ 2.  4. -2.]\n",
      " [-6.  2.  2.]]\n"
     ]
    }
   ],
   "source": [
    "# Multiplincando a por 2\n",
    "A2 = 2*A\n",
    "print(A2)"
   ]
  },
  {
   "cell_type": "markdown",
   "id": "74f1ed39",
   "metadata": {
    "slideshow": {
     "slide_type": "slide"
    }
   },
   "source": [
    "### <font color='blue'>1.3.2 Soma e Subtração de Matrizes Matrizes</font>"
   ]
  },
  {
   "cell_type": "markdown",
   "id": "d5424272",
   "metadata": {
    "slideshow": {
     "slide_type": "slide"
    }
   },
   "source": [
    "Sejam $A$ e $B$ matrizes de mesmo número de linhas e colunas, isto é, $A = A_{n \\times m}$ e $B = B_{n \\times m}$. Define-se a <u>soma</u> de $A$ com $B$ como sendo a matriz $C$ que soma os elementos das posições correspondentes. Em símbolos, temos:\n",
    "\n",
    "$$A_{n \\times m} + B_{n \\times m} = \\begin{bmatrix}\n",
    "a_{11} & a_{12} & \\ldots & a_{1m}\\\\\n",
    "a_{21} & a_{22} & \\ldots & a_{2m}\\\\\n",
    "\\vdots & \\vdots & \\vdots & \\vdots\\\\\n",
    "a_{n1} & a_{n2} & \\ldots & a_{nm}\\\\\n",
    "\\end{bmatrix} \n",
    "+\n",
    "\\begin{bmatrix}\n",
    "b_{11} & b_{12} & \\ldots & b_{1m}\\\\\n",
    "b_{21} & b_{22} & \\ldots & b_{2m}\\\\\n",
    "\\vdots & \\vdots & \\vdots & \\vdots\\\\\n",
    "b_{n1} & b_{n2} & \\ldots & b_{nm}\\\\\n",
    "\\end{bmatrix} = $$\n",
    "\n",
    "$$\\,\\,\\,\\,\\,\\,\\,=\n",
    "\\begin{bmatrix}\n",
    "a_{11} + b_{11} & a_{12} + b_{12} & \\ldots & a_{1m} + b_{1m}\\\\\n",
    "a_{21} + b_{21} & a_{22} + b_{22} & \\ldots & a_{2m} + b_{2m}\\\\\n",
    "\\vdots & \\vdots & \\vdots & \\vdots\\\\\n",
    "a_{n1} + b_{n1} & a_{n2} + b_{n2} & \\ldots & a_{nm} + b_{nm}\\\\\n",
    "\\end{bmatrix}\n",
    "$$"
   ]
  },
  {
   "cell_type": "markdown",
   "id": "915fa7c6",
   "metadata": {},
   "source": [
    "<font color='blue'> **Exemplo:** Some as matrizes\n",
    "<br><br>\n",
    "$$A = \\begin{bmatrix}\n",
    "1 & 2 & -1\\\\\n",
    "-3 & 1 & 1\\\\\n",
    "\\end{bmatrix} \\,\\,\\,\\, e \\,\\,\\,\\, B = \\begin{bmatrix}\n",
    "2 & 1 & -1\\\\\n",
    "0 & 4 & 2\\\\\n",
    "\\end{bmatrix} $$\n",
    "<br><br>\n",
    "**Solução:** Temos que\n",
    "<br><br>\n",
    "$$\n",
    "A + B = \n",
    "\\begin{bmatrix}\n",
    "1 & 2 & -1\\\\\n",
    "-3 & 1 & 1\\\\\n",
    "\\end{bmatrix} \n",
    "+ \n",
    "\\begin{bmatrix}\n",
    "2 & 1 & -1\\\\\n",
    "0 & 4 & 2\\\\\n",
    "\\end{bmatrix} \n",
    "=$$\n",
    "<br><br>\n",
    "$$=    \n",
    "\\begin{bmatrix}\n",
    "1+2 & 2+1 & -1+(-1)\\\\\n",
    "-3+0 & 1+4 & 1+2\\\\\n",
    "\\end{bmatrix}\n",
    "=\n",
    "\\begin{bmatrix}\n",
    "3 & 3 & -2\\\\\n",
    "-3 & 5 & 3\\\\\n",
    "\\end{bmatrix}\n",
    "$$\n",
    "\n"
   ]
  },
  {
   "cell_type": "markdown",
   "id": "c6a77e39",
   "metadata": {},
   "source": [
    "Vejamos o mesmo exemplo usando programação."
   ]
  },
  {
   "cell_type": "code",
   "execution_count": 10,
   "id": "e57bf6af",
   "metadata": {
    "ExecuteTime": {
     "end_time": "2023-06-05T14:05:25.498047Z",
     "start_time": "2023-06-05T14:05:25.493061Z"
    }
   },
   "outputs": [],
   "source": [
    "# Inserindo A e B\n",
    "import numpy as np\n",
    "\n",
    "A = np.matrix([[1,2,-1],[-3,1,1]], dtype = 'float')\n",
    "B = np.matrix([[2,1,-1],[0,4,2]], dtype = 'float')"
   ]
  },
  {
   "cell_type": "code",
   "execution_count": 5,
   "id": "3370d6de",
   "metadata": {
    "ExecuteTime": {
     "end_time": "2023-06-05T13:52:59.600720Z",
     "start_time": "2023-06-05T13:52:59.595710Z"
    }
   },
   "outputs": [
    {
     "name": "stdout",
     "output_type": "stream",
     "text": [
      "[[ 3.  3. -2.]\n",
      " [-3.  5.  3.]]\n"
     ]
    }
   ],
   "source": [
    "# Soma de A com B\n",
    "soma = A + B\n",
    "print(soma)"
   ]
  },
  {
   "cell_type": "markdown",
   "id": "faf5fc3f",
   "metadata": {},
   "source": [
    "Sejam $A$ e $B$ matrizes de mesmo número de linhas e colunas, isto é, $A = A_{n \\times m}$ e $B = B_{n \\times m}$. Define-se a <u>subtração</u> de $A$ com $B$ como sendo a matriz $C$ que subtrai os elementos das posições correspondentes. Em símbolos, temos:\n",
    "\n",
    "$$A_{n \\times m} - B_{n \\times m} = \\begin{bmatrix}\n",
    "a_{11} & a_{12} & \\ldots & a_{1m}\\\\\n",
    "a_{21} & a_{22} & \\ldots & a_{2m}\\\\\n",
    "\\vdots & \\vdots & \\vdots & \\vdots\\\\\n",
    "a_{n1} & a_{n2} & \\ldots & a_{nm}\\\\\n",
    "\\end{bmatrix} \n",
    "-\n",
    "\\begin{bmatrix}\n",
    "b_{11} & b_{12} & \\ldots & b_{1m}\\\\\n",
    "b_{21} & b_{22} & \\ldots & b_{2m}\\\\\n",
    "\\vdots & \\vdots & \\vdots & \\vdots\\\\\n",
    "b_{n1} & b_{n2} & \\ldots & b_{nm}\\\\\n",
    "\\end{bmatrix} = $$\n",
    "\n",
    "$$\\,\\,\\,\\,\\,\\,\\,=\n",
    "\\begin{bmatrix}\n",
    "a_{11} - b_{11} & a_{12} - b_{12} & \\ldots & a_{1m} - b_{1m}\\\\\n",
    "a_{21} - b_{21} & a_{22} - b_{22} & \\ldots & a_{2m} - b_{2m}\\\\\n",
    "\\vdots & \\vdots & \\vdots & \\vdots\\\\\n",
    "a_{n1} - b_{n1} & a_{n2} - b_{n2} & \\ldots & a_{nm} - b_{nm}\\\\\n",
    "\\end{bmatrix}\n",
    "$$"
   ]
  },
  {
   "cell_type": "markdown",
   "id": "fb48106b",
   "metadata": {
    "slideshow": {
     "slide_type": "slide"
    }
   },
   "source": [
    "<font color='blue'>**Exemplo:** Calcule a subtração $A-B$ das matrizes \n",
    "<br><br>\n",
    "$$A = \\begin{bmatrix}\n",
    "1 & 2 & -1\\\\\n",
    "-3 & 1 & 1\\\\\n",
    "\\end{bmatrix} \\,\\,\\,\\, e \\,\\,\\,\\, B = \\begin{bmatrix}\n",
    "2 & 1 & -1\\\\\n",
    "0 & 4 & 2\\\\\n",
    "\\end{bmatrix} $$\n",
    "<br><br>\n",
    "**Solução:** Temos que\n",
    "<br><br>\n",
    "$$A - B = \n",
    "\\begin{bmatrix}\n",
    "1 & 2 & -1\\\\\n",
    "-3 & 1 & 1\\\\\n",
    "\\end{bmatrix} \n",
    "- \n",
    "\\begin{bmatrix}\n",
    "2 & 1 & -1\\\\\n",
    "0 & 4 & 2\\\\\n",
    "\\end{bmatrix} \n",
    "=$$\n",
    "<br><br>\n",
    "$$=    \n",
    "\\begin{bmatrix}\n",
    "1-2 & 2-1 & -1-(-1)\\\\\n",
    "-3-0 & 1-4 & 1-2\\\\\n",
    "\\end{bmatrix}\n",
    "=\n",
    "\\begin{bmatrix}\n",
    "-1 & 1 & 0\\\\\n",
    "-3 & -3 & -1\\\\\n",
    "\\end{bmatrix}\n",
    "$$\n",
    "\n"
   ]
  },
  {
   "cell_type": "markdown",
   "id": "3b2e22f7",
   "metadata": {},
   "source": [
    "Vejamos o mesmo exemplo usando programação."
   ]
  },
  {
   "cell_type": "code",
   "execution_count": 7,
   "id": "a022ded7",
   "metadata": {
    "ExecuteTime": {
     "end_time": "2023-06-05T13:56:26.329250Z",
     "start_time": "2023-06-05T13:56:26.323266Z"
    }
   },
   "outputs": [],
   "source": [
    "# Inserindo A e B\n",
    "import numpy as np\n",
    "\n",
    "A = np.matrix([[1,2,-1],[-3,1,1]], dtype = 'float')\n",
    "B = np.matrix([[2,1,-1],[0,4,2]], dtype = 'float')"
   ]
  },
  {
   "cell_type": "code",
   "execution_count": 9,
   "id": "fbaa4751",
   "metadata": {
    "ExecuteTime": {
     "end_time": "2023-06-05T13:56:38.602699Z",
     "start_time": "2023-06-05T13:56:38.595726Z"
    }
   },
   "outputs": [
    {
     "name": "stdout",
     "output_type": "stream",
     "text": [
      "[[-1.  1.  0.]\n",
      " [-3. -3. -1.]]\n"
     ]
    }
   ],
   "source": [
    "# Subtração de A por B\n",
    "sub = A - B\n",
    "print(sub)"
   ]
  },
  {
   "cell_type": "markdown",
   "id": "f430cce2",
   "metadata": {},
   "source": [
    "### <font color='blue'>1.3.3 Multiplicação de Matrizes</font>"
   ]
  },
  {
   "cell_type": "markdown",
   "id": "ebc5655e",
   "metadata": {},
   "source": [
    "Sejam $A$ uma matriz de dimensão $n \\times m$ e $B$ uma matriz de dimensão $m \\times p$. O produto de $A$ por $B$, denotado por $AB$, é uma matriz $C$ de dimensão $n \\times p$, em que cada elemento $c_{ij}$ é calculado pela multiplicação das linhas de $A$ pelos elementos correspondentes das colunas de $B$, seguido da soma desses produtos. Em símbolos, temos:\n",
    "\n",
    "$$\\begin{bmatrix}\n",
    "a_{11} & a_{12} & \\ldots & a_{1m}\\\\\n",
    "a_{21} & a_{22} & \\ldots & a_{2m}\\\\\n",
    "\\vdots & \\vdots & \\vdots & \\vdots\\\\\n",
    "a_{n1} & a_{n2} & \\ldots & a_{nm}\\\\\n",
    "\\end{bmatrix}\n",
    "\\cdot\n",
    "\\begin{bmatrix}\n",
    "b_{11} & b_{12} & \\ldots & b_{1p}\\\\\n",
    "b_{21} & b_{22} & \\ldots & b_{2p}\\\\\n",
    "\\vdots & \\vdots & \\vdots & \\vdots\\\\\n",
    "b_{m1} & b_{m2} & \\ldots & b_{mp}\\\\\n",
    "\\end{bmatrix} = $$\n",
    "$$\\,\\,\\,\\,\\,\\,\\,=\n",
    "\\begin{bmatrix}\n",
    "a_{11} \\cdot b_{11} + a_{12} \\cdot b_{21} + \\ldots + a_{1m} \\cdot b_{m1} & a_{11} \\cdot b_{12} + a_{12} \\cdot b_{22} + \\ldots + a_{1m} \\cdot b_{m2} & \\ldots & a_{11} \\cdot b_{1p} + a_{12} \\cdot b_{2p} + \\ldots + a_{1m} \\cdot b_{mp}\\\\\n",
    "a_{21} \\cdot b_{11} + a_{22} \\cdot b_{21} + \\ldots + a_{2m} \\cdot b_{m1} & a_{21} \\cdot b_{12} + a_{22} \\cdot b_{22} + \\ldots + a_{2m} \\cdot b_{m2} & \\ldots & a_{21} \\cdot b_{1p} + a_{22} \\cdot b_{2p} + \\ldots + a_{2m} \\cdot b_{mp}\\\\\n",
    "\\vdots & \\vdots & \\vdots & \\vdots\\\\\n",
    "a_{n1} \\cdot b_{11} + a_{n2} \\cdot b_{21} + \\ldots + a_{nm} \\cdot b_{m1} & a_{n1} \\cdot b_{12} + a_{n2} \\cdot b_{22} + \\ldots + a_{nm} \\cdot b_{m2} & \\ldots & a_{n1} \\cdot b_{1p} + a_{n2} \\cdot b_{2p} + \\ldots + a_{nm} \\cdot b_{mp}\\\\\n",
    "\\end{bmatrix}$$"
   ]
  },
  {
   "cell_type": "markdown",
   "id": "de394ad8",
   "metadata": {},
   "source": [
    "<font color='blue'>**Exemplo:** Calcule o produto $AB$ das matrizes \n",
    "<br><br>\n",
    "$$A = \\begin{bmatrix}\n",
    "1 & 2 & -1\\\\\n",
    "-3 & 1 & 1\\\\\n",
    "\\end{bmatrix} \\,\\,\\,\\, e \\,\\,\\,\\, \n",
    "B = \\begin{bmatrix}\n",
    "2 & -2 & -1\\\\\n",
    "0 & 3 & 2\\\\\n",
    "2 & 1 & 1\\\\\n",
    "\\end{bmatrix} $$\n",
    "<br><br>\n",
    "**Solução:** Temos que\n",
    "<br><br>\n",
    "$$A - B = \n",
    "\\begin{bmatrix}\n",
    "1 & 2 & -1\\\\\n",
    "-3 & 1 & 1\\\\\n",
    "\\end{bmatrix} \n",
    "\\cdot \n",
    "\\begin{bmatrix}\n",
    "2 & -2 & -1\\\\\n",
    "0 & 3 & 2\\\\\n",
    "2 & 1 & 1\\\\\n",
    "\\end{bmatrix} \n",
    "=$$\n",
    "<br><br>\n",
    "$$=    \n",
    "\\begin{bmatrix}\n",
    "1\\cdot2 + 2\\cdot0 + -1\\cdot2 & 1\\cdot(-2) + 2\\cdot3 + -1\\cdot1 & 1\\cdot(-1) + 2\\cdot2 + -1\\cdot1\\\\\n",
    "-3\\cdot2 + 1\\cdot0 + 1\\cdot2 & -3\\cdot(-2) + 1\\cdot3 + 1\\cdot1 & -3\\cdot(-1) + 1\\cdot2 + 1\\cdot1\\\\\n",
    "\\end{bmatrix}\n",
    "=$$\n",
    "<br><br>   \n",
    "$$=\\begin{bmatrix}\n",
    "2 + 0 - 2 & -2 + 6 -1 & -1 + 4 -1\\\\\n",
    "-6 + 0 + 2 & 6 + 3 + 1 & 3 + 2 + 1\\\\\n",
    "\\end{bmatrix}=\n",
    "\\begin{bmatrix}\n",
    "0 & 3 & 2\\\\\n",
    "4 & 10 & 6\\\\\n",
    "\\end{bmatrix}\n",
    "$$\n",
    "\n"
   ]
  },
  {
   "cell_type": "markdown",
   "id": "b3e176d1",
   "metadata": {},
   "source": [
    "Vejamos o mesmo exemplo usando programação."
   ]
  },
  {
   "cell_type": "code",
   "execution_count": 17,
   "id": "f53b3d77",
   "metadata": {
    "ExecuteTime": {
     "end_time": "2023-06-05T14:32:51.954883Z",
     "start_time": "2023-06-05T14:32:51.949931Z"
    }
   },
   "outputs": [],
   "source": [
    "# Inserindo A e B\n",
    "import numpy as np\n",
    "\n",
    "A = np.matrix([[1,2,-1],[-3,1,1]], dtype = 'float')\n",
    "B = np.matrix([[2,-2,-1],[0,3,2],[2,1,1]], dtype = 'float')"
   ]
  },
  {
   "cell_type": "code",
   "execution_count": 18,
   "id": "c3fd71e8",
   "metadata": {
    "ExecuteTime": {
     "end_time": "2023-06-05T14:33:03.211775Z",
     "start_time": "2023-06-05T14:33:03.172962Z"
    }
   },
   "outputs": [
    {
     "name": "stdout",
     "output_type": "stream",
     "text": [
      "[[ 0.  3.  2.]\n",
      " [-4. 10.  6.]]\n"
     ]
    }
   ],
   "source": [
    "# Multiplicação de A por B\n",
    "mult = np.dot(A,B)\n",
    "print(mult)"
   ]
  },
  {
   "cell_type": "markdown",
   "id": "044af9d5",
   "metadata": {},
   "source": [
    "**Exemplo:** Uma doceira preparou $3$ tipos de salgados usando as quantidades de ingredientes conforme a tabela abaixo:\n",
    "<br><br>\n",
    "|          |  Ovo  | Farinha | Açúcar | Carne |\n",
    "|:--------:|:-----:|:-------:|:------:|:-----:|\n",
    "| Pastéis  |   3   |    6    |   1    |   3   |\n",
    "| Empadas  |   4   |    4    |   2    |   2   |\n",
    "| Quibes   |   1   |    1    |   1    |   6   |\n",
    "<br><br>\n",
    "\n",
    "Os custos das poções unitárias dos produtos usados é dado na tabela a seguir:\n",
    "<br><br>\n",
    "\n",
    "|Ingredientes|  Ovo  |\n",
    "|:----------:|:-----:|\n",
    "| Ovo        | 0,20  |\n",
    "| Farinha    | 0,30  |\n",
    "| Açúcar     | 0,50  |\n",
    "| Carne      | 0,80  |\n",
    "\n",
    "<br><br>\n",
    "\n",
    "a) Calcule o preço de cada salgado.\n",
    "\n",
    "b) Calcule o preço de cada salgado em que a quantidade de carne utilizada será reduzida em $25\\%$.\n",
    "\n",
    "c) Calcule o preço de cada salgado se o preço dos ingredientes aumentou $10\\%$ seguidamente à redução de $25\\%$ na quantidade de carne usada."
   ]
  },
  {
   "cell_type": "markdown",
   "id": "fa7f6201",
   "metadata": {},
   "source": [
    "Solução: a) Note que trata-se de um produto das matrizes associadas às quantidades de ingredientes e do preço. Isto é,\n",
    "<br><br>\n",
    "$$quantidade*preço = \\begin{bmatrix}\n",
    "3 & 6 & 1 & 3\\\\\n",
    "4 & 4 & 2 & 2\\\\\n",
    "1 & 1 & 1 & 6\\\\\n",
    "\\end{bmatrix} \\cdot\n",
    "\\begin{bmatrix}\n",
    "0,2 \\\\\n",
    "0,3 \\\\\n",
    "0,5 \\\\\n",
    "0,8 \\\\\n",
    "\\end{bmatrix} $$\n",
    "<br>\n",
    "Uma vez que já sabemos programar o produto usemos esta maravilhosa fucionalidade."
   ]
  },
  {
   "cell_type": "code",
   "execution_count": 24,
   "id": "653884b3",
   "metadata": {
    "ExecuteTime": {
     "end_time": "2023-06-05T14:52:52.004395Z",
     "start_time": "2023-06-05T14:52:51.997414Z"
    }
   },
   "outputs": [],
   "source": [
    "# Inserindo A e B\n",
    "import numpy as np\n",
    "\n",
    "quantidades = np.matrix([[3,6,1,3],[4,4,2,2],[1,1,1,6]], dtype = 'float')\n",
    "precos = np.matrix([[0.2],[0.3],[0.5],[0.8]], dtype = 'float')"
   ]
  },
  {
   "cell_type": "code",
   "execution_count": 33,
   "id": "c2d07494",
   "metadata": {
    "ExecuteTime": {
     "end_time": "2023-06-05T14:55:04.708499Z",
     "start_time": "2023-06-05T14:55:04.701518Z"
    }
   },
   "outputs": [
    {
     "name": "stdout",
     "output_type": "stream",
     "text": [
      "Pastel: R$ 5.3\n",
      "Empada: R$ 4.6\n",
      "Quibe: R$ 5.8\n"
     ]
    }
   ],
   "source": [
    "valores = np.dot(quantidades,preco)\n",
    "print(f'Pastel: R$ {round(valores[0,0],2)}')\n",
    "print(f'Empada: R$ {round(valores[1,0],2)}')\n",
    "print(f'Quibe: R$ {round(valores[2,0],2)}')"
   ]
  },
  {
   "cell_type": "markdown",
   "id": "921e0459",
   "metadata": {
    "ExecuteTime": {
     "end_time": "2023-06-05T15:03:14.290194Z",
     "start_time": "2023-06-05T15:03:13.695746Z"
    }
   },
   "source": [
    "Solução: b) Note que trata-se de um produto das matrizes associadas às quantidades de ingredientes com a redução de $25\\%$ e do preço. Isto é,\n",
    "<br><br>\n",
    "$$quantidade*preço = \\begin{bmatrix}\n",
    "3 & 6 & 1 & (3-25\\%)\\\\\n",
    "4 & 4 & 2 & (2-25\\%)\\\\\n",
    "1 & 1 & 1 & (6-25\\%)\\\\\n",
    "\\end{bmatrix} \\cdot\n",
    "\\begin{bmatrix}\n",
    "0,2 \\\\\n",
    "0,3 \\\\\n",
    "0,5 \\\\\n",
    "0,8 \\\\\n",
    "\\end{bmatrix} $$\n",
    "<br>\n",
    "Uma vez que já sabemos programar o produto usemos esta maravilhosa fucionalidade."
   ]
  },
  {
   "cell_type": "code",
   "execution_count": 37,
   "id": "2ce241d6",
   "metadata": {
    "ExecuteTime": {
     "end_time": "2023-06-05T15:06:53.941841Z",
     "start_time": "2023-06-05T15:06:53.933886Z"
    }
   },
   "outputs": [
    {
     "name": "stdout",
     "output_type": "stream",
     "text": [
      "Quantidades reduzidas em 25% na quarta coluna:\n",
      "[[3.   6.   1.   2.25]\n",
      " [4.   4.   2.   1.5 ]\n",
      " [1.   1.   1.   4.5 ]]\n"
     ]
    }
   ],
   "source": [
    "# Ajustando a matriz quantidade\n",
    "import numpy as np\n",
    "\n",
    "quantidades = np.matrix([[3, 6, 1, 3], [4, 4, 2, 2], [1, 1, 1, 6]], dtype='float')\n",
    "\n",
    "# Obtém a quarta coluna\n",
    "col4 = quantidades[:, 3]\n",
    "\n",
    "# Reduz as quantidades em 25%\n",
    "col4_ajust = col4 * 0.75\n",
    "\n",
    "# Atualiza a quarta coluna na matriz original\n",
    "quantidades[:, 3] = col4_ajust\n",
    "\n",
    "print(\"Quantidades reduzidas em 25% na quarta coluna:\")\n",
    "print(quantidades)\n"
   ]
  },
  {
   "cell_type": "code",
   "execution_count": 38,
   "id": "680391d0",
   "metadata": {
    "ExecuteTime": {
     "end_time": "2023-06-05T15:07:55.276976Z",
     "start_time": "2023-06-05T15:07:55.271990Z"
    }
   },
   "outputs": [
    {
     "name": "stdout",
     "output_type": "stream",
     "text": [
      "Pastel: R$ 4.7\n",
      "Empada: R$ 4.2\n",
      "Quibe: R$ 4.6\n"
     ]
    }
   ],
   "source": [
    "# Calculando os novos valores\n",
    "valores = np.dot(quantidades,preco)\n",
    "print(f'Pastel: R$ {round(valores[0,0],2)}')\n",
    "print(f'Empada: R$ {round(valores[1,0],2)}')\n",
    "print(f'Quibe: R$ {round(valores[2,0],2)}')"
   ]
  },
  {
   "cell_type": "markdown",
   "id": "489414b8",
   "metadata": {},
   "source": [
    "Solução: c) Note que trata-se de um produto das matrizes associadas às quantidades de ingredientes com a redução de $25\\%$ e do preço aumentado de $10\\%$. Isto é,\n",
    "<br><br>\n",
    "$$quantidade*preço = \\begin{bmatrix}\n",
    "3 & 6 & 1 & (3-25\\%) \\\\\n",
    "4 & 4 & 2 & (2-25\\%) \\\\\n",
    "1 & 1 & 1 & (6-25\\%) \\\\\n",
    "\\end{bmatrix} \\cdot\n",
    "\\begin{bmatrix}\n",
    "0,2 + 10\\% \\\\\n",
    "0,3 + 10\\% \\\\\n",
    "0,5 + 10\\% \\\\\n",
    "0,8 + 10\\% \\\\\n",
    "\\end{bmatrix} $$\n",
    "<br>\n",
    "Uma vez que já sabemos programar o produto usemos esta maravilhosa fucionalidade."
   ]
  },
  {
   "cell_type": "code",
   "execution_count": 43,
   "id": "e96bbea3",
   "metadata": {
    "ExecuteTime": {
     "end_time": "2023-06-05T15:13:46.212754Z",
     "start_time": "2023-06-05T15:13:46.206773Z"
    }
   },
   "outputs": [
    {
     "name": "stdout",
     "output_type": "stream",
     "text": [
      "Preços aumentados em 10%:\n",
      "[[0.22]\n",
      " [0.33]\n",
      " [0.55]\n",
      " [0.88]]\n"
     ]
    }
   ],
   "source": [
    "# Ajustando a matriz quantidade\n",
    "import numpy as np\n",
    "\n",
    "precos = np.matrix([[0.2],[0.3],[0.5],[0.8]], dtype = 'float')\n",
    "\n",
    "# Obtém a quarta coluna\n",
    "col1 = preco[:, 0]\n",
    "\n",
    "# Aumento dos valores em 10%\n",
    "col1_ajust = col1 * 1.10\n",
    "\n",
    "# Atualiza a coluna na matriz original\n",
    "preco[:, 0] = col1_ajust\n",
    "\n",
    "print(\"Preços aumentados em 10%:\")\n",
    "print(preco)\n"
   ]
  },
  {
   "cell_type": "code",
   "execution_count": 44,
   "id": "641cc8bc",
   "metadata": {
    "ExecuteTime": {
     "end_time": "2023-06-05T15:13:47.988956Z",
     "start_time": "2023-06-05T15:13:47.982972Z"
    }
   },
   "outputs": [
    {
     "name": "stdout",
     "output_type": "stream",
     "text": [
      "Pastel: R$ 5.17\n",
      "Empada: R$ 4.62\n",
      "Quibe: R$ 5.06\n"
     ]
    }
   ],
   "source": [
    "# Calculando os novos valores\n",
    "valores = np.dot(quantidades,preco)\n",
    "print(f'Pastel: R$ {round(valores[0,0],2)}')\n",
    "print(f'Empada: R$ {round(valores[1,0],2)}')\n",
    "print(f'Quibe: R$ {round(valores[2,0],2)}')"
   ]
  }
 ],
 "metadata": {
  "celltoolbar": "Slideshow",
  "kernelspec": {
   "display_name": "Python 3 (ipykernel)",
   "language": "python",
   "name": "python3"
  },
  "language_info": {
   "codemirror_mode": {
    "name": "ipython",
    "version": 3
   },
   "file_extension": ".py",
   "mimetype": "text/x-python",
   "name": "python",
   "nbconvert_exporter": "python",
   "pygments_lexer": "ipython3",
   "version": "3.10.9"
  },
  "varInspector": {
   "cols": {
    "lenName": 16,
    "lenType": 16,
    "lenVar": 40
   },
   "kernels_config": {
    "python": {
     "delete_cmd_postfix": "",
     "delete_cmd_prefix": "del ",
     "library": "var_list.py",
     "varRefreshCmd": "print(var_dic_list())"
    },
    "r": {
     "delete_cmd_postfix": ") ",
     "delete_cmd_prefix": "rm(",
     "library": "var_list.r",
     "varRefreshCmd": "cat(var_dic_list()) "
    }
   },
   "types_to_exclude": [
    "module",
    "function",
    "builtin_function_or_method",
    "instance",
    "_Feature"
   ],
   "window_display": false
  }
 },
 "nbformat": 4,
 "nbformat_minor": 5
}
